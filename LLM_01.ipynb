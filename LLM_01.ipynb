{
 "cells": [
  {
   "cell_type": "code",
   "execution_count": 1,
   "id": "initial_id",
   "metadata": {
    "collapsed": true,
    "ExecuteTime": {
     "end_time": "2024-03-23T04:27:33.417645Z",
     "start_time": "2024-03-23T04:27:32.280846Z"
    }
   },
   "outputs": [
    {
     "name": "stdout",
     "output_type": "stream",
     "text": [
      "Requirement already satisfied: openai in /opt/homebrew/anaconda3/envs/study_langchain/lib/python3.11/site-packages (1.14.1)\r\n",
      "Requirement already satisfied: anyio<5,>=3.5.0 in /opt/homebrew/anaconda3/envs/study_langchain/lib/python3.11/site-packages (from openai) (4.3.0)\r\n",
      "Requirement already satisfied: distro<2,>=1.7.0 in /opt/homebrew/anaconda3/envs/study_langchain/lib/python3.11/site-packages (from openai) (1.9.0)\r\n",
      "Requirement already satisfied: httpx<1,>=0.23.0 in /opt/homebrew/anaconda3/envs/study_langchain/lib/python3.11/site-packages (from openai) (0.27.0)\r\n",
      "Requirement already satisfied: pydantic<3,>=1.9.0 in /opt/homebrew/anaconda3/envs/study_langchain/lib/python3.11/site-packages (from openai) (2.6.4)\r\n",
      "Requirement already satisfied: sniffio in /opt/homebrew/anaconda3/envs/study_langchain/lib/python3.11/site-packages (from openai) (1.3.1)\r\n",
      "Requirement already satisfied: tqdm>4 in /opt/homebrew/anaconda3/envs/study_langchain/lib/python3.11/site-packages (from openai) (4.66.2)\r\n",
      "Requirement already satisfied: typing-extensions<5,>=4.7 in /opt/homebrew/anaconda3/envs/study_langchain/lib/python3.11/site-packages (from openai) (4.10.0)\r\n",
      "Requirement already satisfied: idna>=2.8 in /opt/homebrew/anaconda3/envs/study_langchain/lib/python3.11/site-packages (from anyio<5,>=3.5.0->openai) (3.6)\r\n",
      "Requirement already satisfied: certifi in /opt/homebrew/anaconda3/envs/study_langchain/lib/python3.11/site-packages (from httpx<1,>=0.23.0->openai) (2024.2.2)\r\n",
      "Requirement already satisfied: httpcore==1.* in /opt/homebrew/anaconda3/envs/study_langchain/lib/python3.11/site-packages (from httpx<1,>=0.23.0->openai) (1.0.4)\r\n",
      "Requirement already satisfied: h11<0.15,>=0.13 in /opt/homebrew/anaconda3/envs/study_langchain/lib/python3.11/site-packages (from httpcore==1.*->httpx<1,>=0.23.0->openai) (0.14.0)\r\n",
      "Requirement already satisfied: annotated-types>=0.4.0 in /opt/homebrew/anaconda3/envs/study_langchain/lib/python3.11/site-packages (from pydantic<3,>=1.9.0->openai) (0.6.0)\r\n",
      "Requirement already satisfied: pydantic-core==2.16.3 in /opt/homebrew/anaconda3/envs/study_langchain/lib/python3.11/site-packages (from pydantic<3,>=1.9.0->openai) (2.16.3)\r\n"
     ]
    }
   ],
   "source": [
    "!pip install openai"
   ]
  },
  {
   "cell_type": "code",
   "execution_count": 2,
   "outputs": [
    {
     "data": {
      "text/plain": "True"
     },
     "execution_count": 2,
     "metadata": {},
     "output_type": "execute_result"
    }
   ],
   "source": [
    "from dotenv import load_dotenv \n",
    "load_dotenv()"
   ],
   "metadata": {
    "collapsed": false,
    "ExecuteTime": {
     "end_time": "2024-03-23T04:28:16.743298Z",
     "start_time": "2024-03-23T04:28:16.716421Z"
    }
   },
   "id": "f39c9350f845bde9"
  },
  {
   "cell_type": "code",
   "execution_count": 8,
   "outputs": [
    {
     "data": {
      "text/plain": "'\\n\\n파이썬은 다양한 분야에서 사용되는 프로그래밍 언어로서 다음과 같은 이유로 인해 가장 인기있는 언어 중 하나입니다:\\n\\n1. 간결하고 읽기 쉬운 문법: 파이썬은 간결하고 읽기 쉬운 문법을 가지고 있어서 입문자부터 전문가까지 다양한 사용자들이 쉽게 배울 수 있습니다.\\n\\n2. 다양한 용도로 사용 가능: 파이썬은 데이터 분석, 웹 개발, 인공지능, 게임 개발 등 다양한 분야에서 사용될 수 있습니다. 이러한 다양성으로 인해 파이썬은 다양한 산업에서 매우 인기있는 언어가 되었습니다.\\n\\n3. 강력한 라이브러리와 프레임워크: 파이'"
     },
     "execution_count": 8,
     "metadata": {},
     "output_type": "execute_result"
    }
   ],
   "source": [
    "from langchain.llms import OpenAI\n",
    "\n",
    "davinch3 = OpenAI(model_name=\"gpt-3.5-turbo-instruct\")\n",
    "davinch3.predict('why python is the most popular language? answer in korean')"
   ],
   "metadata": {
    "collapsed": false,
    "ExecuteTime": {
     "end_time": "2024-03-23T04:34:46.329893Z",
     "start_time": "2024-03-23T04:34:42.422430Z"
    }
   },
   "id": "31b2ad0dfc7f1336"
  },
  {
   "cell_type": "code",
   "execution_count": 10,
   "outputs": [
    {
     "name": "stdout",
     "output_type": "stream",
     "text": [
      "파이썬은 가장 인기 있는 언어가 되었습니다. 이는 다음과 같은 이유 때문입니다:\n",
      "\n",
      "1. 쉬운 문법: 파이썬은 간결하고 쉬운 문법을 가지고 있어 학습이 쉽습니다.\n",
      "2. 다양한 용도: 데이터 분석, 인공지능, 웹 개발 등 다양한 분야에서 활용되며, 다양한 라이브러리와 모듈을 제공합니다.\n",
      "3. 커뮤니티 지원: 파이썬은 활발한 커뮤니티를 가지고 있어 문제 해결이 쉽고, 다른 개발자들과의 협업이 용이합니다.\n",
      "4. 크로스 플랫폼: 파이썬은 다양한 운영체제에서 사용할 수 있어 플랫폼에 구애받지 않고 개발할 수 있습니다.\n",
      "\n",
      "이러한 이유들로 인해 파이썬은 현재 가장 인기 있는 프로그래밍 언어가 되었습니다.\n"
     ]
    }
   ],
   "source": [
    "from langchain_openai import ChatOpenAI\n",
    "\n",
    "chatgpt = ChatOpenAI(model_name=\"gpt-3.5-turbo\")\n",
    "answer = chatgpt.predict('why python is the most popular language? answer in korean')\n",
    "print(answer)"
   ],
   "metadata": {
    "collapsed": false,
    "ExecuteTime": {
     "end_time": "2024-03-23T05:50:40.977281Z",
     "start_time": "2024-03-23T05:50:34.978647Z"
    }
   },
   "id": "ca82f07f76a5baa5"
  },
  {
   "cell_type": "code",
   "execution_count": 17,
   "outputs": [
    {
     "name": "stdout",
     "output_type": "stream",
     "text": [
      "파이썬이 가장 인기 있는 언어인 이유는 다음과 같습니다.  첫째, 파이썬은 문법이 간단하고 쉽게 배울 수 있어 초보자들도 쉽게 접근할 수 있습니다. 둘째, 다양한 라이브러리와 프레임워크를 제공하여 다양한 용도로 활용할 수 있습니다. 셋째, 데이터 과학 및 인공지능 분야에서 널리 사용되는데 이는 파이썬이 데이터 처리와 분석에 용이하기 때문입니다. 이러한 이유들로 파이썬은 많은 개발자들에게 선호되는 언어가 되었습니다."
     ]
    }
   ],
   "source": [
    "from langchain.callbacks.streaming_stdout import StreamingStdOutCallbackHandler\n",
    "chatgpt = ChatOpenAI(model_name=\"gpt-3.5-turbo\", streaming=True, callbacks=[StreamingStdOutCallbackHandler()], temperature=1) \n",
    "answer = chatgpt.predict('why python is the most popular language? answer in korean') "
   ],
   "metadata": {
    "collapsed": false,
    "ExecuteTime": {
     "end_time": "2024-03-23T06:03:29.992418Z",
     "start_time": "2024-03-23T06:03:25.125665Z"
    }
   },
   "id": "2baf25460a75f2e0"
  },
  {
   "cell_type": "code",
   "execution_count": 18,
   "outputs": [
    {
     "name": "stderr",
     "output_type": "stream",
     "text": [
      "/opt/homebrew/anaconda3/envs/study_langchain/lib/python3.11/site-packages/langchain_core/_api/deprecation.py:117: LangChainDeprecationWarning: The function `__call__` was deprecated in LangChain 0.1.7 and will be removed in 0.2.0. Use invoke instead.\n",
      "  warn_deprecated(\n"
     ]
    },
    {
     "data": {
      "text/plain": "AIMessage(content='라이체인을 좋아해요.', response_metadata={'finish_reason': 'stop', 'logprobs': None})"
     },
     "execution_count": 18,
     "metadata": {},
     "output_type": "execute_result"
    }
   ],
   "source": [
    "from langchain.chat_models import ChatOpenAI \n",
    "from langchain.schema import AIMessage, HumanMessage, SystemMessage\n",
    "\n",
    "chatgpt = ChatOpenAI(model_name=\"gpt-3.5-turbo\", temperature=1) \n",
    "\n",
    "messages = [\n",
    "    SystemMessage(\n",
    "        content=\"you are a helpful assistant that translates English to korean\"\n",
    "    ), \n",
    "    HumanMessage(\n",
    "        content=\"I love lanchain\"\n",
    "    )\n",
    "]\n",
    "response_lanchain = chatgpt(messages)\n",
    "response_lanchain"
   ],
   "metadata": {
    "collapsed": false,
    "ExecuteTime": {
     "end_time": "2024-03-23T06:07:23.324912Z",
     "start_time": "2024-03-23T06:07:22.350901Z"
    }
   },
   "id": "5a8f3bef6689770"
  },
  {
   "cell_type": "code",
   "execution_count": 19,
   "outputs": [
    {
     "name": "stdout",
     "output_type": "stream",
     "text": [
      "좋습니다! Large Language Model에 대해 학습하기 위한 공부 계획을 제안해 드리겠습니다.\n",
      "\n",
      "1. **개요 이해:**\n",
      "   - Large Language Model이 무엇인지에 대한 개요를 파악해보세요.\n",
      "   - 어떻게 작동하는지, 어떻게 학습되는지 등에 대한 이해를 높이세요.\n",
      "\n",
      "2. **역사와 발전:**\n",
      "   - Large Language Model이 발전해온 과정과 주요 이정표를 살펴보세요.\n",
      "   - GPT, BERT, XLNet 등과 같은 대표적인 모델들에 대해 학습해보세요.\n",
      "\n",
      "3. **구조와 원리:**\n",
      "   - Large Language Model의 구조와 작동 원리를 자세히 분석해보세요.\n",
      "   - Self-attention, Transformer 등의 핵심 개념을 이해하는 것이 중요합니다.\n",
      "\n",
      "4. **사용 사례 및 응용:**\n",
      "   - Large Language Model이 자연어 처리나 기타 분야에서 어떻게 활용되는지 탐구해보세요.\n",
      "   - 자율 대화 시스템, 문서 요약, 번역 등 다양한 분야에서의 사용 사례를 확인하세요.\n",
      "\n",
      "5. **실습과 구현:**\n",
      "   - Large Language Model을 직접 구현해보거나 관련된 프로젝트에 참여해보세요.\n",
      "   - Hugging Face Transformers나 TensorFlow 등의 라이브러리를 사용하여 실습해보는 것이 도움이 될 수 있습니다.\n",
      "6. **최신 동향과 논의:**\n",
      "   - Large Language Model 분야의 최신 동향과 논의된 이슈들을 살펴보세요.\n",
      "   - 타당성, 윤리적 문제 등에 대한 논의를 이해하는 것이 필요합니다.\n",
      "7. **정리 및 복습:**\n",
      "   - 공부한 내용을 정리하고 복습하여 이해도를 높이세요.\n",
      "   - 필요하다면 블로그나 스터디 모임을 통해 다른 사람들과 의견을 공유해보세요.\n",
      "\n",
      "위의 과정을 차근차근 따라가면 Large Language Model에 대한 깊은 이해와 풍부한 지식을 쌓을 수 있을 것입니다. 학습 과정에서 어려운 부분이 있으면 언제든 질문해주세요! 함께 공부해보세요."
     ]
    }
   ],
   "source": [
    "from langchain.chat_models import ChatOpenAI\n",
    "from langchain.callbacks.streaming_stdout import StreamingStdOutCallbackHandler\n",
    "from langchain.schema import AIMessage, HumanMessage, SystemMessage\n",
    "\n",
    "chatgpt = ChatOpenAI(model_name=\"gpt-3.5-turbo\", streaming=True, callbacks=[StreamingStdOutCallbackHandler()], temperature=1)\n",
    "\n",
    "messages = [\n",
    "    SystemMessage(\n",
    "        content=\"당신은 공부 계획을 세워주는 스터디 플래너 머신입니다. 사용자의 공부 주제를 입력 받으면, 이를 학습하기 위한 공부계획을 작성합니다.\"\n",
    "    ),\n",
    "    HumanMessage(\n",
    "        content=\"Large Language Model에 대해서 공부하고 싶다.\"\n",
    "    )\n",
    "]\n",
    "answer = chatgpt(messages)\n"
   ],
   "metadata": {
    "collapsed": false,
    "ExecuteTime": {
     "end_time": "2024-03-23T06:31:36.454453Z",
     "start_time": "2024-03-23T06:31:26.665415Z"
    }
   },
   "id": "94ec3b5ed13282f6"
  },
  {
   "cell_type": "code",
   "execution_count": 20,
   "outputs": [
    {
     "data": {
      "text/plain": "StringPromptValue(text='tell me a joke about soccer')"
     },
     "execution_count": 20,
     "metadata": {},
     "output_type": "execute_result"
    }
   ],
   "source": [
    "from langchain.prompts import PromptTemplate, ChatPromptTemplate\n",
    "\n",
    "string_prompt = PromptTemplate.from_template(\"tell me a joke about {subject}\") \n",
    "string_prompt_value = string_prompt.format_prompt(subject = \"soccer\")\n",
    "\n",
    "string_prompt_value"
   ],
   "metadata": {
    "collapsed": false,
    "ExecuteTime": {
     "end_time": "2024-03-23T12:58:56.123230Z",
     "start_time": "2024-03-23T12:58:56.021257Z"
    }
   },
   "id": "2d204d0c9df6770e"
  },
  {
   "cell_type": "code",
   "execution_count": 21,
   "outputs": [],
   "source": [
    "from langchain.prompts import (\n",
    "ChatPromptTemplate,\n",
    "PromptTemplate,\n",
    "SystemMessagePromptTemplate,\n",
    "HumanMessagePromptTemplate,\n",
    "AIMessagePromptTemplate\n",
    ")\n",
    "from langchain.schema import (\n",
    "AIMessage, \n",
    "HumanMessage,\n",
    "SystemMessage\n",
    ")"
   ],
   "metadata": {
    "collapsed": false,
    "ExecuteTime": {
     "end_time": "2024-03-23T13:04:41.038127Z",
     "start_time": "2024-03-23T13:04:40.995415Z"
    }
   },
   "id": "ff4abd15b8772d06"
  },
  {
   "cell_type": "code",
   "execution_count": 24,
   "outputs": [
    {
     "name": "stdout",
     "output_type": "stream",
     "text": [
      "제가 추천하는 요리는 \"양파 계란 토스트\"입니다. 이 요리는 간단하면서도 맛있는 아침 식사나 간식으로 즐기기 좋습니다. 아래는 요리의 레시피입니다.\n",
      "\n",
      "**양파 계란 토스트 레시피:**\n",
      "\n",
      "**재료:**\n",
      "- 양파\n",
      "- 계란\n",
      "- 빵\n",
      "- 소금\n",
      "- 후추\n",
      "- 식용유\n",
      "\n",
      "**만드는 법:**\n",
      "1. 양파를 깍둑썰기로 썰어줍니다.\n",
      "2. 팬에 식용유를 두르고 양파를 볶아 투명해질 때까지 볶아줍니다.\n",
      "3. 볶은 양파에 소금과 후추로 간을 해줍니다.\n",
      "4. 계란을 풀어 소금을 약간 넣고 푹푹 섞어줍니다.\n",
      "5. 빵을 토스트기에 구워줍니다.\n",
      "6. 볶은 양파를 올린 빵 위에 계란을 부어줍니다.\n",
      "7. 계란이 익을 때까지 중불에서 뚜껑을 덮고 익혀줍니다.\n",
      "8. 계란이 익으면 완성입니다. 따뜻하게 즐겨보세요.\n",
      "\n",
      "이렇게 간단하면서도 맛있는 \"양파 계란 토스트\"를 만들어보시기 바랍니다. 좋은 식사 되세요! 🍳🍞🧅\n"
     ]
    }
   ],
   "source": [
    "chatgpt = ChatOpenAI(temperature=0)\n",
    "template = \"\"\"\n",
    "너는 요리사야. 내가 가진 재료들을 갖고 만들 수 있는 요리를 추천하고, 그 요리의 레시피를 제시해줘.\n",
    "내가 가진 재료는 아래와 같아.\n",
    "\n",
    "<재료>\n",
    "{재료}\n",
    "\"\"\"\n",
    "prompt_template = PromptTemplate(\n",
    "    input_variables = ['재료'],\n",
    "    template = template\n",
    ")\n",
    "\n",
    "system_message_prompt = SystemMessagePromptTemplate.from_template(template)\n",
    "\n",
    "human_template = \"{재료}\"\n",
    "human_message_prompt = HumanMessagePromptTemplate.from_template(human_template)\n",
    "\n",
    "chat_prompt = ChatPromptTemplate.from_messages([system_message_prompt, human_message_prompt])\n",
    "\n",
    "answer = chatgpt(chat_prompt.format_prompt(재료=\"양파, 계란, 사과, 빵\").to_messages())\n",
    "print(answer.content)"
   ],
   "metadata": {
    "collapsed": false,
    "ExecuteTime": {
     "end_time": "2024-03-23T13:46:59.435428Z",
     "start_time": "2024-03-23T13:46:48.114338Z"
    }
   },
   "id": "2f5ca2cdb75a1469"
  },
  {
   "cell_type": "code",
   "execution_count": 26,
   "outputs": [
    {
     "name": "stdout",
     "output_type": "stream",
     "text": [
      "Collecting unstructured\r\n",
      "  Downloading unstructured-0.12.6-py3-none-any.whl.metadata (83 kB)\r\n",
      "\u001B[2K     \u001B[90m━━━━━━━━━━━━━━━━━━━━━━━━━━━━━━━━━━━━━━━━\u001B[0m \u001B[32m83.2/83.2 kB\u001B[0m \u001B[31m1.3 MB/s\u001B[0m eta \u001B[36m0:00:00\u001B[0ma \u001B[36m0:00:01\u001B[0m\r\n",
      "\u001B[?25hCollecting pypdf\r\n",
      "  Downloading pypdf-4.1.0-py3-none-any.whl.metadata (7.4 kB)\r\n",
      "Collecting pdf2image\r\n",
      "  Downloading pdf2image-1.17.0-py3-none-any.whl.metadata (6.2 kB)\r\n",
      "Collecting docx2txt\r\n",
      "  Downloading docx2txt-0.8.tar.gz (2.8 kB)\r\n",
      "  Preparing metadata (setup.py) ... \u001B[?25ldone\r\n",
      "\u001B[?25hCollecting pdfminer\r\n",
      "  Downloading pdfminer-20191125.tar.gz (4.2 MB)\r\n",
      "\u001B[2K     \u001B[90m━━━━━━━━━━━━━━━━━━━━━━━━━━━━━━━━━━━━━━━━\u001B[0m \u001B[32m4.2/4.2 MB\u001B[0m \u001B[31m8.4 MB/s\u001B[0m eta \u001B[36m0:00:00\u001B[0m00:01\u001B[0m00:01\u001B[0m\r\n",
      "\u001B[?25h  Preparing metadata (setup.py) ... \u001B[?25ldone\r\n",
      "\u001B[?25hCollecting backoff==2.2.1 (from unstructured)\r\n",
      "  Downloading backoff-2.2.1-py3-none-any.whl.metadata (14 kB)\r\n",
      "Collecting beautifulsoup4==4.12.3 (from unstructured)\r\n",
      "  Downloading beautifulsoup4-4.12.3-py3-none-any.whl.metadata (3.8 kB)\r\n",
      "Requirement already satisfied: certifi==2024.2.2 in /opt/homebrew/anaconda3/envs/study_langchain/lib/python3.11/site-packages (from unstructured) (2024.2.2)\r\n",
      "Collecting chardet==5.2.0 (from unstructured)\r\n",
      "  Downloading chardet-5.2.0-py3-none-any.whl.metadata (3.4 kB)\r\n",
      "Requirement already satisfied: charset-normalizer==3.3.2 in /opt/homebrew/anaconda3/envs/study_langchain/lib/python3.11/site-packages (from unstructured) (3.3.2)\r\n",
      "Collecting click==8.1.7 (from unstructured)\r\n",
      "  Using cached click-8.1.7-py3-none-any.whl.metadata (3.0 kB)\r\n",
      "Requirement already satisfied: dataclasses-json==0.6.4 in /opt/homebrew/anaconda3/envs/study_langchain/lib/python3.11/site-packages (from unstructured) (0.6.4)\r\n",
      "Collecting dataclasses-json-speakeasy==0.5.11 (from unstructured)\r\n",
      "  Downloading dataclasses_json_speakeasy-0.5.11-py3-none-any.whl.metadata (25 kB)\r\n",
      "Collecting emoji==2.10.1 (from unstructured)\r\n",
      "  Downloading emoji-2.10.1-py2.py3-none-any.whl.metadata (5.3 kB)\r\n",
      "Collecting filetype==1.2.0 (from unstructured)\r\n",
      "  Downloading filetype-1.2.0-py2.py3-none-any.whl.metadata (6.5 kB)\r\n",
      "Requirement already satisfied: idna==3.6 in /opt/homebrew/anaconda3/envs/study_langchain/lib/python3.11/site-packages (from unstructured) (3.6)\r\n",
      "Collecting joblib==1.3.2 (from unstructured)\r\n",
      "  Downloading joblib-1.3.2-py3-none-any.whl.metadata (5.4 kB)\r\n",
      "Collecting jsonpath-python==1.0.6 (from unstructured)\r\n",
      "  Downloading jsonpath_python-1.0.6-py3-none-any.whl.metadata (12 kB)\r\n",
      "Collecting langdetect==1.0.9 (from unstructured)\r\n",
      "  Downloading langdetect-1.0.9.tar.gz (981 kB)\r\n",
      "\u001B[2K     \u001B[90m━━━━━━━━━━━━━━━━━━━━━━━━━━━━━━━━━━━━━━━\u001B[0m \u001B[32m981.5/981.5 kB\u001B[0m \u001B[31m9.5 MB/s\u001B[0m eta \u001B[36m0:00:00\u001B[0ma \u001B[36m0:00:01\u001B[0m\r\n",
      "\u001B[?25h  Preparing metadata (setup.py) ... \u001B[?25ldone\r\n",
      "\u001B[?25hCollecting lxml==5.1.0 (from unstructured)\r\n",
      "  Using cached lxml-5.1.0-cp311-cp311-macosx_11_0_arm64.whl.metadata (3.5 kB)\r\n",
      "Collecting marshmallow==3.20.2 (from unstructured)\r\n",
      "  Using cached marshmallow-3.20.2-py3-none-any.whl.metadata (7.5 kB)\r\n",
      "Requirement already satisfied: mypy-extensions==1.0.0 in /opt/homebrew/anaconda3/envs/study_langchain/lib/python3.11/site-packages (from unstructured) (1.0.0)\r\n",
      "Collecting nltk==3.8.1 (from unstructured)\r\n",
      "  Downloading nltk-3.8.1-py3-none-any.whl.metadata (2.8 kB)\r\n",
      "Requirement already satisfied: numpy==1.26.4 in /opt/homebrew/anaconda3/envs/study_langchain/lib/python3.11/site-packages (from unstructured) (1.26.4)\r\n",
      "Requirement already satisfied: packaging==23.2 in /opt/homebrew/anaconda3/envs/study_langchain/lib/python3.11/site-packages (from unstructured) (23.2)\r\n",
      "Requirement already satisfied: python-dateutil==2.8.2 in /opt/homebrew/anaconda3/envs/study_langchain/lib/python3.11/site-packages (from unstructured) (2.8.2)\r\n",
      "Collecting python-iso639==2024.2.7 (from unstructured)\r\n",
      "  Downloading python_iso639-2024.2.7-py3-none-any.whl.metadata (13 kB)\r\n",
      "Collecting python-magic==0.4.27 (from unstructured)\r\n",
      "  Downloading python_magic-0.4.27-py2.py3-none-any.whl.metadata (5.8 kB)\r\n",
      "Collecting rapidfuzz==3.6.1 (from unstructured)\r\n",
      "  Downloading rapidfuzz-3.6.1-cp311-cp311-macosx_11_0_arm64.whl.metadata (11 kB)\r\n",
      "Requirement already satisfied: regex==2023.12.25 in /opt/homebrew/anaconda3/envs/study_langchain/lib/python3.11/site-packages (from unstructured) (2023.12.25)\r\n",
      "Requirement already satisfied: requests==2.31.0 in /opt/homebrew/anaconda3/envs/study_langchain/lib/python3.11/site-packages (from unstructured) (2.31.0)\r\n",
      "Requirement already satisfied: six==1.16.0 in /opt/homebrew/anaconda3/envs/study_langchain/lib/python3.11/site-packages (from unstructured) (1.16.0)\r\n",
      "Requirement already satisfied: soupsieve==2.5 in /opt/homebrew/anaconda3/envs/study_langchain/lib/python3.11/site-packages (from unstructured) (2.5)\r\n",
      "Collecting tabulate==0.9.0 (from unstructured)\r\n",
      "  Downloading tabulate-0.9.0-py3-none-any.whl.metadata (34 kB)\r\n",
      "Requirement already satisfied: tqdm==4.66.2 in /opt/homebrew/anaconda3/envs/study_langchain/lib/python3.11/site-packages (from unstructured) (4.66.2)\r\n",
      "Collecting typing-extensions==4.9.0 (from unstructured)\r\n",
      "  Using cached typing_extensions-4.9.0-py3-none-any.whl.metadata (3.0 kB)\r\n",
      "Requirement already satisfied: typing-inspect==0.9.0 in /opt/homebrew/anaconda3/envs/study_langchain/lib/python3.11/site-packages (from unstructured) (0.9.0)\r\n",
      "Collecting unstructured-client==0.18.0 (from unstructured)\r\n",
      "  Downloading unstructured_client-0.18.0-py3-none-any.whl.metadata (4.9 kB)\r\n",
      "Collecting urllib3==1.26.18 (from unstructured)\r\n",
      "  Downloading urllib3-1.26.18-py2.py3-none-any.whl.metadata (48 kB)\r\n",
      "\u001B[2K     \u001B[90m━━━━━━━━━━━━━━━━━━━━━━━━━━━━━━━━━━━━━━━━\u001B[0m \u001B[32m48.9/48.9 kB\u001B[0m \u001B[31m4.5 MB/s\u001B[0m eta \u001B[36m0:00:00\u001B[0m\r\n",
      "\u001B[?25hCollecting wrapt==1.16.0 (from unstructured)\r\n",
      "  Using cached wrapt-1.16.0-cp311-cp311-macosx_11_0_arm64.whl.metadata (6.6 kB)\r\n",
      "Collecting pillow (from pdf2image)\r\n",
      "  Downloading pillow-10.2.0-cp311-cp311-macosx_11_0_arm64.whl.metadata (9.7 kB)\r\n",
      "Collecting pycryptodome (from pdfminer)\r\n",
      "  Downloading pycryptodome-3.20.0-cp35-abi3-macosx_10_9_universal2.whl.metadata (3.4 kB)\r\n",
      "Downloading unstructured-0.12.6-py3-none-any.whl (1.8 MB)\r\n",
      "\u001B[2K   \u001B[90m━━━━━━━━━━━━━━━━━━━━━━━━━━━━━━━━━━━━━━━━\u001B[0m \u001B[32m1.8/1.8 MB\u001B[0m \u001B[31m10.9 MB/s\u001B[0m eta \u001B[36m0:00:00\u001B[0ma \u001B[36m0:00:01\u001B[0m\r\n",
      "\u001B[?25hUsing cached backoff-2.2.1-py3-none-any.whl (15 kB)\r\n",
      "Downloading beautifulsoup4-4.12.3-py3-none-any.whl (147 kB)\r\n",
      "\u001B[2K   \u001B[90m━━━━━━━━━━━━━━━━━━━━━━━━━━━━━━━━━━━━━━━━\u001B[0m \u001B[32m147.9/147.9 kB\u001B[0m \u001B[31m9.1 MB/s\u001B[0m eta \u001B[36m0:00:00\u001B[0m\r\n",
      "\u001B[?25hDownloading chardet-5.2.0-py3-none-any.whl (199 kB)\r\n",
      "\u001B[2K   \u001B[90m━━━━━━━━━━━━━━━━━━━━━━━━━━━━━━━━━━━━━━━━\u001B[0m \u001B[32m199.4/199.4 kB\u001B[0m \u001B[31m8.9 MB/s\u001B[0m eta \u001B[36m0:00:00\u001B[0m\r\n",
      "\u001B[?25hUsing cached click-8.1.7-py3-none-any.whl (97 kB)\r\n",
      "Downloading dataclasses_json_speakeasy-0.5.11-py3-none-any.whl (28 kB)\r\n",
      "Downloading emoji-2.10.1-py2.py3-none-any.whl (421 kB)\r\n",
      "\u001B[2K   \u001B[90m━━━━━━━━━━━━━━━━━━━━━━━━━━━━━━━━━━━━━━━━\u001B[0m \u001B[32m421.5/421.5 kB\u001B[0m \u001B[31m10.4 MB/s\u001B[0m eta \u001B[36m0:00:00\u001B[0m00:01\u001B[0m\r\n",
      "\u001B[?25hDownloading filetype-1.2.0-py2.py3-none-any.whl (19 kB)\r\n",
      "Downloading joblib-1.3.2-py3-none-any.whl (302 kB)\r\n",
      "\u001B[2K   \u001B[90m━━━━━━━━━━━━━━━━━━━━━━━━━━━━━━━━━━━━━━━━\u001B[0m \u001B[32m302.2/302.2 kB\u001B[0m \u001B[31m9.9 MB/s\u001B[0m eta \u001B[36m0:00:00\u001B[0m\r\n",
      "\u001B[?25hDownloading jsonpath_python-1.0.6-py3-none-any.whl (7.6 kB)\r\n",
      "Using cached lxml-5.1.0-cp311-cp311-macosx_11_0_arm64.whl (4.5 MB)\r\n",
      "Using cached marshmallow-3.20.2-py3-none-any.whl (49 kB)\r\n",
      "Downloading nltk-3.8.1-py3-none-any.whl (1.5 MB)\r\n",
      "\u001B[2K   \u001B[90m━━━━━━━━━━━━━━━━━━━━━━━━━━━━━━━━━━━━━━━━\u001B[0m \u001B[32m1.5/1.5 MB\u001B[0m \u001B[31m11.0 MB/s\u001B[0m eta \u001B[36m0:00:00\u001B[0ma \u001B[36m0:00:01\u001B[0m\r\n",
      "\u001B[?25hDownloading python_iso639-2024.2.7-py3-none-any.whl (274 kB)\r\n",
      "\u001B[2K   \u001B[90m━━━━━━━━━━━━━━━━━━━━━━━━━━━━━━━━━━━━━━━━\u001B[0m \u001B[32m274.7/274.7 kB\u001B[0m \u001B[31m9.8 MB/s\u001B[0m eta \u001B[36m0:00:00\u001B[0m\r\n",
      "\u001B[?25hDownloading python_magic-0.4.27-py2.py3-none-any.whl (13 kB)\r\n",
      "Downloading rapidfuzz-3.6.1-cp311-cp311-macosx_11_0_arm64.whl (1.2 MB)\r\n",
      "\u001B[2K   \u001B[90m━━━━━━━━━━━━━━━━━━━━━━━━━━━━━━━━━━━━━━━━\u001B[0m \u001B[32m1.2/1.2 MB\u001B[0m \u001B[31m11.1 MB/s\u001B[0m eta \u001B[36m0:00:00\u001B[0ma \u001B[36m0:00:01\u001B[0m\r\n",
      "\u001B[?25hUsing cached tabulate-0.9.0-py3-none-any.whl (35 kB)\r\n",
      "Using cached typing_extensions-4.9.0-py3-none-any.whl (32 kB)\r\n",
      "Downloading unstructured_client-0.18.0-py3-none-any.whl (21 kB)\r\n",
      "Downloading urllib3-1.26.18-py2.py3-none-any.whl (143 kB)\r\n",
      "\u001B[2K   \u001B[90m━━━━━━━━━━━━━━━━━━━━━━━━━━━━━━━━━━━━━━━━\u001B[0m \u001B[32m143.8/143.8 kB\u001B[0m \u001B[31m8.9 MB/s\u001B[0m eta \u001B[36m0:00:00\u001B[0m\r\n",
      "\u001B[?25hUsing cached wrapt-1.16.0-cp311-cp311-macosx_11_0_arm64.whl (38 kB)\r\n",
      "Downloading pypdf-4.1.0-py3-none-any.whl (286 kB)\r\n",
      "\u001B[2K   \u001B[90m━━━━━━━━━━━━━━━━━━━━━━━━━━━━━━━━━━━━━━━━\u001B[0m \u001B[32m286.1/286.1 kB\u001B[0m \u001B[31m9.9 MB/s\u001B[0m eta \u001B[36m0:00:00\u001B[0m\r\n",
      "\u001B[?25hDownloading pdf2image-1.17.0-py3-none-any.whl (11 kB)\r\n",
      "Downloading pillow-10.2.0-cp311-cp311-macosx_11_0_arm64.whl (3.3 MB)\r\n",
      "\u001B[2K   \u001B[90m━━━━━━━━━━━━━━━━━━━━━━━━━━━━━━━━━━━━━━━━\u001B[0m \u001B[32m3.3/3.3 MB\u001B[0m \u001B[31m11.3 MB/s\u001B[0m eta \u001B[36m0:00:00\u001B[0ma \u001B[36m0:00:01\u001B[0m\r\n",
      "\u001B[?25hDownloading pycryptodome-3.20.0-cp35-abi3-macosx_10_9_universal2.whl (2.4 MB)\r\n",
      "\u001B[2K   \u001B[90m━━━━━━━━━━━━━━━━━━━━━━━━━━━━━━━━━━━━━━━━\u001B[0m \u001B[32m2.4/2.4 MB\u001B[0m \u001B[31m11.4 MB/s\u001B[0m eta \u001B[36m0:00:00\u001B[0ma \u001B[36m0:00:01\u001B[0m\r\n",
      "\u001B[?25hBuilding wheels for collected packages: langdetect, docx2txt, pdfminer\r\n",
      "  Building wheel for langdetect (setup.py) ... \u001B[?25ldone\r\n",
      "\u001B[?25h  Created wheel for langdetect: filename=langdetect-1.0.9-py3-none-any.whl size=993224 sha256=1ce0c11352de24c659497688a11bc15b25104f6ee5f30934b3c36c29d4fec801\r\n",
      "  Stored in directory: /Users/cookyman/Library/Caches/pip/wheels/0a/f2/b2/e5ca405801e05eb7c8ed5b3b4bcf1fcabcd6272c167640072e\r\n",
      "  Building wheel for docx2txt (setup.py) ... \u001B[?25ldone\r\n",
      "\u001B[?25h  Created wheel for docx2txt: filename=docx2txt-0.8-py3-none-any.whl size=3959 sha256=4673cbf1242aa609238d3463953d17917d2431f5ffeee0d7f403ba67f1c6a1c6\r\n",
      "  Stored in directory: /Users/cookyman/Library/Caches/pip/wheels/0f/0e/7a/3094a4ceefe657bff7e12dd9592a9d5b6487ef4338ace0afa6\r\n",
      "  Building wheel for pdfminer (setup.py) ... \u001B[?25ldone\r\n",
      "\u001B[?25h  Created wheel for pdfminer: filename=pdfminer-20191125-py3-none-any.whl size=6140111 sha256=e0989c32c8aec185d0b48cc91a36f4564dfa2b059bf678f7f34db76448098722\r\n",
      "  Stored in directory: /Users/cookyman/Library/Caches/pip/wheels/56/24/93/05316c6df89ff210a9a705060277e3acbfd2d1bd3a5853ee19\r\n",
      "Successfully built langdetect docx2txt pdfminer\r\n",
      "Installing collected packages: filetype, docx2txt, wrapt, urllib3, typing-extensions, tabulate, rapidfuzz, python-magic, python-iso639, pypdf, pycryptodome, pillow, marshmallow, lxml, langdetect, jsonpath-python, joblib, emoji, click, chardet, beautifulsoup4, backoff, pdfminer, pdf2image, nltk, dataclasses-json-speakeasy, unstructured-client, unstructured\r\n",
      "  Attempting uninstall: urllib3\r\n",
      "    Found existing installation: urllib3 2.2.1\r\n",
      "    Uninstalling urllib3-2.2.1:\r\n",
      "      Successfully uninstalled urllib3-2.2.1\r\n",
      "  Attempting uninstall: typing-extensions\r\n",
      "    Found existing installation: typing_extensions 4.10.0\r\n",
      "    Uninstalling typing_extensions-4.10.0:\r\n",
      "      Successfully uninstalled typing_extensions-4.10.0\r\n",
      "  Attempting uninstall: marshmallow\r\n",
      "    Found existing installation: marshmallow 3.21.1\r\n",
      "    Uninstalling marshmallow-3.21.1:\r\n",
      "      Successfully uninstalled marshmallow-3.21.1\r\n",
      "  Attempting uninstall: beautifulsoup4\r\n",
      "    Found existing installation: beautifulsoup4 4.12.2\r\n",
      "    Uninstalling beautifulsoup4-4.12.2:\r\n",
      "      Successfully uninstalled beautifulsoup4-4.12.2\r\n",
      "Successfully installed backoff-2.2.1 beautifulsoup4-4.12.3 chardet-5.2.0 click-8.1.7 dataclasses-json-speakeasy-0.5.11 docx2txt-0.8 emoji-2.10.1 filetype-1.2.0 joblib-1.3.2 jsonpath-python-1.0.6 langdetect-1.0.9 lxml-5.1.0 marshmallow-3.20.2 nltk-3.8.1 pdf2image-1.17.0 pdfminer-20191125 pillow-10.2.0 pycryptodome-3.20.0 pypdf-4.1.0 python-iso639-2024.2.7 python-magic-0.4.27 rapidfuzz-3.6.1 tabulate-0.9.0 typing-extensions-4.9.0 unstructured-0.12.6 unstructured-client-0.18.0 urllib3-1.26.18 wrapt-1.16.0\r\n"
     ]
    }
   ],
   "source": [
    "!pip install unstructured pypdf pdf2image docx2txt pdfminer"
   ],
   "metadata": {
    "collapsed": false,
    "ExecuteTime": {
     "end_time": "2024-03-23T16:45:55.334926Z",
     "start_time": "2024-03-23T16:45:24.008347Z"
    }
   },
   "id": "71a6389172465f96"
  },
  {
   "cell_type": "code",
   "execution_count": null,
   "outputs": [],
   "source": [],
   "metadata": {
    "collapsed": false
   },
   "id": "1e221e4b84380735"
  }
 ],
 "metadata": {
  "kernelspec": {
   "display_name": "Python 3",
   "language": "python",
   "name": "python3"
  },
  "language_info": {
   "codemirror_mode": {
    "name": "ipython",
    "version": 2
   },
   "file_extension": ".py",
   "mimetype": "text/x-python",
   "name": "python",
   "nbconvert_exporter": "python",
   "pygments_lexer": "ipython2",
   "version": "2.7.6"
  }
 },
 "nbformat": 4,
 "nbformat_minor": 5
}
