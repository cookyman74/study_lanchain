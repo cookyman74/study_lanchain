{
 "cells": [
  {
   "cell_type": "code",
   "execution_count": 1,
   "id": "initial_id",
   "metadata": {
    "collapsed": true,
    "ExecuteTime": {
     "end_time": "2024-04-24T11:42:05.849550Z",
     "start_time": "2024-04-24T11:42:01.778405Z"
    }
   },
   "outputs": [
    {
     "data": {
      "text/plain": "AIMessage(content='지구의 자전 주기는 약 24시간입니다. 이것은 하루가 되기 위해 지구가 자전하는데 걸리는 시간을 의미합니다. 이 자전 주기는 지구의 자전속도와 태양 시간에 영향을 받으며, 하루가 정확히 24시간이 되도록 국제시와 협정 세계시가 조정됩니다.', response_metadata={'finish_reason': 'stop', 'logprobs': None})"
     },
     "execution_count": 1,
     "metadata": {},
     "output_type": "execute_result"
    }
   ],
   "source": [
    "from dotenv import load_dotenv\n",
    "load_dotenv()\n",
    "\n",
    "from langchain_openai import ChatOpenAI\n",
    "llm = ChatOpenAI(model='gpt-3.5-turbo-0125')\n",
    "\n",
    "llm.invoke(\"지구의 자전 주기는?\")"
   ]
  },
  {
   "cell_type": "code",
   "execution_count": 8,
   "outputs": [
    {
     "data": {
      "text/plain": "'블랙홀은 매우 강력한 중력으로 인해 빛조차도 탈출할 수 없는 영역을 가진 천체입니다. 블랙홀은 별이 끝나고 남은 핵이 중력에 의해 무한히 수축하여 생긴 것으로, 주변에 있는 가스나 빛을 흡수하여 그 존재를 알리지만 직접적으로 관측하기는 어렵습니다.'"
     },
     "execution_count": 8,
     "metadata": {},
     "output_type": "execute_result"
    }
   ],
   "source": [
    "from langchain_core.prompts import ChatPromptTemplate \n",
    "from langchain_core.output_parsers import StrOutputParser\n",
    "from langchain_openai import ChatOpenAI\n",
    "llm = ChatOpenAI(model='gpt-3.5-turbo-0125')\n",
    "\n",
    "prompt = ChatPromptTemplate.from_template(\"너는 천문학자이다. 다음 <질문>에 대해 답해줘. <Question>: {input}\")\n",
    "output_parser = StrOutputParser()\n",
    "chain = prompt | llm | output_parser\n",
    "\n",
    "chain.invoke({\"input\": \"블랙홀은 무엇인가?\"})"
   ],
   "metadata": {
    "collapsed": false,
    "ExecuteTime": {
     "end_time": "2024-04-24T14:56:37.461234Z",
     "start_time": "2024-04-24T14:56:33.430727Z"
    }
   },
   "id": "6ca091cef05880a3"
  },
  {
   "cell_type": "code",
   "execution_count": null,
   "outputs": [],
   "source": [],
   "metadata": {
    "collapsed": false
   },
   "id": "fd6deeab1c02f217"
  }
 ],
 "metadata": {
  "kernelspec": {
   "display_name": "Python 3",
   "language": "python",
   "name": "python3"
  },
  "language_info": {
   "codemirror_mode": {
    "name": "ipython",
    "version": 2
   },
   "file_extension": ".py",
   "mimetype": "text/x-python",
   "name": "python",
   "nbconvert_exporter": "python",
   "pygments_lexer": "ipython2",
   "version": "2.7.6"
  }
 },
 "nbformat": 4,
 "nbformat_minor": 5
}
