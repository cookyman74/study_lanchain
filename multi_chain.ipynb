{
 "cells": [
  {
   "cell_type": "code",
   "execution_count": 1,
   "id": "initial_id",
   "metadata": {
    "collapsed": true,
    "ExecuteTime": {
     "end_time": "2024-04-24T15:22:26.380451Z",
     "start_time": "2024-04-24T15:22:26.371031Z"
    }
   },
   "outputs": [
    {
     "data": {
      "text/plain": "True"
     },
     "execution_count": 1,
     "metadata": {},
     "output_type": "execute_result"
    }
   ],
   "source": [
    "from dotenv import load_dotenv\n",
    "load_dotenv()"
   ]
  },
  {
   "cell_type": "code",
   "execution_count": 7,
   "outputs": [],
   "source": [
    "from langchain_core.output_parsers import StrOutputParser\n",
    "from langchain_core.prompts import ChatPromptTemplate\n",
    "from langchain_openai import ChatOpenAI\n",
    "\n",
    "prompt_trans = ChatPromptTemplate.from_template(\"translates {korean_words} to English\")\n",
    "\n",
    "llm = ChatOpenAI(model=\"gpt-3.5-turbo-0125\")\n",
    "chain1 = prompt_trans | llm | StrOutputParser()\n",
    "\n",
    "# 체인2를 구성하기 위해 체인1의 결과를 올바르게 전달합니다.\n",
    "def chain2_input(korean_words):\n",
    "    english_words = chain1.invoke({\"korean_words\": korean_words})\n",
    "    prompt_answer = ChatPromptTemplate.from_template(\"answer the question: {english_words}\")\n",
    "    chain2 = prompt_answer | llm | StrOutputParser()\n",
    "    \n",
    "    return chain2.invoke({\"english_words\":english_words})\n",
    "\n",
    "# 최종 호출\n",
    "result = chain2_input(\"대한민국의 미래는?\")"
   ],
   "metadata": {
    "collapsed": false,
    "ExecuteTime": {
     "end_time": "2024-04-25T15:12:52.161162Z",
     "start_time": "2024-04-25T15:12:47.478081Z"
    }
   },
   "id": "2253f820d16a2902"
  },
  {
   "cell_type": "code",
   "execution_count": 8,
   "outputs": [
    {
     "data": {
      "text/plain": "'The future of South Korea is likely to be shaped by a combination of factors, including advancements in technology, changes in global trade patterns, and political developments both domestically and internationally. South Korea is known for its strong economy, highly educated workforce, and innovative industries, so it is expected to continue to be a major player in the global economy. \\n\\nHowever, the country also faces challenges such as an aging population, high levels of household debt, and tensions with North Korea. How South Korea navigates these challenges and continues to adapt to a rapidly changing world will play a significant role in determining its future. Overall, the future of South Korea is likely to be characterized by continued economic growth, technological advancement, and increasing global influence.'"
     },
     "execution_count": 8,
     "metadata": {},
     "output_type": "execute_result"
    }
   ],
   "source": [
    "result"
   ],
   "metadata": {
    "collapsed": false,
    "ExecuteTime": {
     "end_time": "2024-04-25T15:13:01.838324Z",
     "start_time": "2024-04-25T15:13:01.826285Z"
    }
   },
   "id": "4fde23027facecde"
  },
  {
   "cell_type": "code",
   "execution_count": 12,
   "outputs": [],
   "source": [
    "from langchain_community.chat_models import ChatOllama \n",
    "llm2= ChatOllama(model=\"EEVE-korean-10.8B:latest\")"
   ],
   "metadata": {
    "collapsed": false,
    "ExecuteTime": {
     "end_time": "2024-04-27T16:25:28.351077Z",
     "start_time": "2024-04-27T16:25:28.337229Z"
    }
   },
   "id": "4050c99381582cdd"
  },
  {
   "cell_type": "code",
   "execution_count": null,
   "outputs": [],
   "source": [
    "def chain2_input(korean_words):\n",
    "    english_words = chain1.invoke({\"korean_words\": korean_words})\n",
    "    prompt_answer = ChatPromptTemplate.from_template(\"answer the question: {english_words}\")\n",
    "    chain2 = prompt_answer | llm | StrOutputParser()\n",
    "\n",
    "    return chain2.invoke({\"english_words\":english_words})\n",
    "\n",
    "# 최종 호출\n",
    "result = chain2_input(\"대한민국의 미래는?\")\n",
    "\n",
    "prompt_trans_korea = ChatPromptTemplate.from_template(\"translates {english_words} to korean words\")\n",
    "\n",
    "chain3 = prompt_trans_korea | llm2 | StrOutputParser()"
   ],
   "metadata": {
    "collapsed": false,
    "is_executing": true,
    "ExecuteTime": {
     "start_time": "2024-04-27T16:25:30.138804Z"
    }
   },
   "id": "ec0be781427a959"
  },
  {
   "cell_type": "code",
   "execution_count": null,
   "outputs": [],
   "source": [],
   "metadata": {
    "collapsed": false
   },
   "id": "374d00df17754dd8"
  }
 ],
 "metadata": {
  "kernelspec": {
   "display_name": "Python 3",
   "language": "python",
   "name": "python3"
  },
  "language_info": {
   "codemirror_mode": {
    "name": "ipython",
    "version": 2
   },
   "file_extension": ".py",
   "mimetype": "text/x-python",
   "name": "python",
   "nbconvert_exporter": "python",
   "pygments_lexer": "ipython2",
   "version": "2.7.6"
  }
 },
 "nbformat": 4,
 "nbformat_minor": 5
}
