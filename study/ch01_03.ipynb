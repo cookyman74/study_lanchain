{
 "cells": [
  {
   "cell_type": "code",
   "execution_count": 1,
   "id": "initial_id",
   "metadata": {
    "collapsed": true,
    "ExecuteTime": {
     "end_time": "2024-03-17T13:14:08.852572Z",
     "start_time": "2024-03-17T13:14:08.845770Z"
    }
   },
   "outputs": [
    {
     "data": {
      "text/plain": "True"
     },
     "execution_count": 1,
     "metadata": {},
     "output_type": "execute_result"
    }
   ],
   "source": [
    "from dotenv import load_dotenv\n",
    "load_dotenv()"
   ]
  },
  {
   "cell_type": "code",
   "execution_count": 2,
   "outputs": [],
   "source": [
    "from langchain.prompts import PromptTemplate"
   ],
   "metadata": {
    "collapsed": false,
    "ExecuteTime": {
     "end_time": "2024-03-17T13:14:28.663959Z",
     "start_time": "2024-03-17T13:14:28.149113Z"
    }
   },
   "id": "5fa8feb37ca8c9c0"
  },
  {
   "cell_type": "code",
   "execution_count": 3,
   "outputs": [
    {
     "data": {
      "text/plain": "PromptTemplate(input_variables=['country'], template='{country}의 수도는 어디인가?')"
     },
     "execution_count": 3,
     "metadata": {},
     "output_type": "execute_result"
    }
   ],
   "source": [
    "#template 정의\n",
    "template = \"{country}의 수도는 어디인가?\"\n",
    "\n",
    "#from_template 메소드를 이용하여 PromptTemplate 객체 생성 \n",
    "prompt_template = PromptTemplate.from_template(template)\n",
    "prompt_template"
   ],
   "metadata": {
    "collapsed": false,
    "ExecuteTime": {
     "end_time": "2024-03-17T13:15:53.675274Z",
     "start_time": "2024-03-17T13:15:53.673783Z"
    }
   },
   "id": "ed3e59dc9eff42f5"
  },
  {
   "cell_type": "code",
   "execution_count": 4,
   "outputs": [
    {
     "data": {
      "text/plain": "'대한민국의 수도는 어디인가?'"
     },
     "execution_count": 4,
     "metadata": {},
     "output_type": "execute_result"
    }
   ],
   "source": [
    "#프롬프트 생성\n",
    "prompt = prompt_template.format(country = \"대한민국\")\n",
    "prompt "
   ],
   "metadata": {
    "collapsed": false,
    "ExecuteTime": {
     "end_time": "2024-03-17T13:16:36.811369Z",
     "start_time": "2024-03-17T13:16:36.802793Z"
    }
   },
   "id": "9cb895ccb690043"
  },
  {
   "cell_type": "code",
   "execution_count": 5,
   "outputs": [
    {
     "data": {
      "text/plain": "'미국의 수도는 어디인가?'"
     },
     "execution_count": 5,
     "metadata": {},
     "output_type": "execute_result"
    }
   ],
   "source": [
    "prompt = prompt_template.format(country = \"미국\")\n",
    "prompt "
   ],
   "metadata": {
    "collapsed": false,
    "ExecuteTime": {
     "end_time": "2024-03-17T13:17:15.020325Z",
     "start_time": "2024-03-17T13:17:15.019735Z"
    }
   },
   "id": "d6300a63bd8e5f5d"
  },
  {
   "cell_type": "code",
   "execution_count": 7,
   "outputs": [],
   "source": [
    "from langchain_openai import ChatOpenAI\n",
    "\n",
    "model = ChatOpenAI(\n",
    "    model = \"gpt-3.5-turbo\",\n",
    "    max_tokens = 2048,\n",
    "    temperature = 0.1,\n",
    ")"
   ],
   "metadata": {
    "collapsed": false,
    "ExecuteTime": {
     "end_time": "2024-03-17T13:19:01.058642Z",
     "start_time": "2024-03-17T13:19:01.039712Z"
    }
   },
   "id": "931e49825322be60"
  },
  {
   "cell_type": "code",
   "execution_count": 8,
   "outputs": [],
   "source": [
    "from langchain_core.output_parsers import StrOutputParser\n",
    "output_parser = StrOutputParser()"
   ],
   "metadata": {
    "collapsed": false,
    "ExecuteTime": {
     "end_time": "2024-03-17T13:19:36.151860Z",
     "start_time": "2024-03-17T13:19:36.143920Z"
    }
   },
   "id": "1b1209bbc6607438"
  },
  {
   "cell_type": "code",
   "execution_count": 13,
   "outputs": [
    {
     "name": "stdout",
     "output_type": "stream",
     "text": [
      "영어 회화:\n",
      "- Excuse me, could I see the menu, please?\n",
      "- Yes, of course. Here you go.\n",
      "- Thank you. Hmm, I'd like to order the grilled salmon with a side of mashed potatoes, please.\n",
      "- Absolutely, would you like anything to drink with that?\n",
      "- Yes, could I have a glass of white wine, please?\n",
      "- Sure thing. Anything else for you?\n",
      "- That'll be all for now, thank you.\n",
      "\n",
      "한글 해석:\n",
      "- 실례합니다, 메뉴판 좀 볼 수 있을까요?\n",
      "- 네, 물론입니다. 여기 있습니다.\n",
      "- 감사합니다. 음, 구운 연어에 감자 퓌레를 곁들인 것으로 주문하겠습니다.\n",
      "- 알겠습니다, 음료는 무엇으로 드릴까요?\n",
      "- 네, 화이트 와인 한 잔 주세요.\n",
      "- 알겠습니다. 더 필요하신 것 있으세요?\n",
      "- 지금은 이게 다입니다, 감사합니다.\n"
     ]
    }
   ],
   "source": [
    "# 주어진 나라에 대하여 수도를 묻는 프롬프트 템플릿을 생성합니다.\n",
    "# prompt = PromptTemplate.from_template(\"{country}의 수도는 어디인가요?\")\n",
    "\n",
    "# 주어진 나라에 대하여 수도를 묻는 프롬프트 템플릿을 생성합니다.\n",
    "# template = \"\"\"\n",
    "# 당신은 친절하게 답변해 주는 친절 봇입니다. 사용자의 질문에 [FORMAT]에 맞추어 답변해 주세요.\n",
    "# 답변은 항상 한글로 작성해 주세요.\n",
    "# \n",
    "# 질문:\n",
    "# {question}에 대하여 설명해 주세요.\n",
    "# \n",
    "# FORMAT:\n",
    "# - 개요:\n",
    "# - 예시:\n",
    "# - 출처:\n",
    "# \"\"\"\n",
    "\n",
    "template = \"\"\"\n",
    "당신은 영어를 가르치는 10년차 영어 선생님입니다. 상황에 [FORMAT]에 영어 회화를 작성해 주세요.\n",
    "\n",
    "상황:\n",
    "{question}\n",
    "\n",
    "FORMAT:\n",
    "- 영어 회화:\n",
    "- 한글 해석:\n",
    "\"\"\"\n",
    "\n",
    "\n",
    "prompt = PromptTemplate.from_template(template)\n",
    "\n",
    "\n",
    "# OpenAI 챗모델을 초기화합니다.\n",
    "model = ChatOpenAI(model=\"gpt-4-turbo-preview\")\n",
    "# 문자열 출력 파서를 초기화합니다.\n",
    "output_parser = StrOutputParser()\n",
    "\n",
    "# 프롬프트, 모델, 출력 파서를 연결하여 처리 체인을 구성합니다.\n",
    "chain = prompt | model | output_parser\n",
    "\n",
    "# 완성된 Chain 을 이용하여 country 를 '대한민국'으로 설정하여 실행합니다.\n",
    "# chain.invoke({\"country\": \"대한민국\"})\n",
    "print(chain.invoke({\"question\": \"저는 식당에 가서 음식을 주문하고 싶어요\"}))"
   ],
   "metadata": {
    "collapsed": false,
    "ExecuteTime": {
     "end_time": "2024-03-17T15:02:16.143522Z",
     "start_time": "2024-03-17T15:02:04.334685Z"
    }
   },
   "id": "76d2baca26c420e9"
  },
  {
   "cell_type": "code",
   "execution_count": 14,
   "outputs": [
    {
     "name": "stdout",
     "output_type": "stream",
     "text": [
      "영어 회화:\n",
      "- Customer: Hi, I'd like to order a large pepperoni pizza with extra cheese, please.\n",
      "- Employee: Sure thing. Would you like to add any sides or drinks to your order?\n",
      "- Customer: Yes, can I get an order of garlic knots and a 2-liter bottle of Coke?\n",
      "- Employee: Absolutely. Will that be for delivery or pickup?\n",
      "- Customer: Delivery, please.\n",
      "- Employee: Can I have your address, please?\n",
      "- Customer: It's 123 Maple Street, Apartment 4B.\n",
      "- Employee: Great, that'll be $24.50. It should take about 45 minutes. May I have your name and phone number for the order?\n",
      "- Customer: Sure, my name is Alex Johnson and my phone number is 555-1234.\n",
      "- Employee: Thank you, Alex. Your order is confirmed. We'll call you once the delivery person is on their way.\n",
      "- Customer: Perfect, thank you!\n",
      "\n",
      "한글 해석:\n",
      "- 고객: 안녕하세요, 큰 사이즈의 페퍼로니 피자에 치즈를 추가로 더해 주문하고 싶어요.\n",
      "- 직원: 알겠습니다. 사이드 메뉴나 음료도 추가로 주문하시겠어요?\n",
      "- 고객: 네, 마늘 노트 한 세트와 콜라 2리터 한 병 주세요.\n",
      "- 직원: 네, 알겠습니다. 배달로 하시겠어요, 아니면 직접 가져가시겠어요?\n",
      "- 고객: 배달로 해주세요.\n",
      "- 직원: 주소를 알려주실 수 있나요?\n",
      "- 고객: 123 메이플 스트리트, 아파트 4B예요.\n",
      "- 직원: 좋습니다, 총 금액은 $24.50이고, 대략 45분 정도 걸릴 거예요. 주문하실 때 사용할 이름과 전화번호를 알려주시겠어요?\n",
      "- 고객: 네, 제 이름은 알렉스 존슨이고 전화번호는 555-1234예요.\n",
      "- 직원: 알렉스님, 주문 확인되었습니다. 배달 직원이 출발하면 전화드리겠습니다.\n",
      "- 고객: 완벽해요, 감사합니다!\n"
     ]
    }
   ],
   "source": [
    "print(chain.invoke({\"question\": \"미국에서 피자 주문\"}))"
   ],
   "metadata": {
    "collapsed": false,
    "ExecuteTime": {
     "end_time": "2024-03-17T15:03:30.327725Z",
     "start_time": "2024-03-17T15:02:45.464983Z"
    }
   },
   "id": "3ab7a8ee10049691"
  },
  {
   "cell_type": "code",
   "execution_count": 19,
   "outputs": [
    {
     "name": "stdout",
     "output_type": "stream",
     "text": [
      "input_variables=['topic'] template='{topic} 에 대해 쉽게 설명해주세요.'\n"
     ]
    },
    {
     "data": {
      "text/plain": "AIMessage(content=\"양자역학은 물리학의 한 분야로, 아주 작은 입자들의 세계에서 일어나는 현상을 연구합니다. 이 작은 입자들로는 전자, 광자, 원자 등이 있습니다. 일상생활에서는 느낄 수 없는 이 아주 작은 세계에서는 직관과 상식이 통용되지 않는 독특한 법칙들이 적용됩니다.\\n\\n양자역학의 기본적인 개념 중 하나는 '불확정성 원리'입니다. 이는 어떤 입자의 위치와 속도를 동시에 정확하게 알 수 없다는 원칙입니다. 즉, 우리가 입자의 위치를 정확히 알게 된다면 그 입자의 속도는 매우 불확실해지며, 반대로 속도를 정확히 안다면 위치는 불확실해집니다. 이는 우리가 일상에서 경험하는 것과는 매우 다른 개념입니다.\\n\\n또 다른 중요한 개념은 '양자 중첩'입니다. 이는 입자가 여러 상태에 동시에 존재할 수 있다는 의미입니다. 예를 들어, 양자 세계에서는 전자가 '스핀 업' 상태와 '스핀 다운' 상태에 동시에 있을 수 있습니다. 이러한 상태는 관측되기 전까지는 확정되지 않으며, 관측하는 순간에만 특정 상태로 결정됩니다. 이는 유명한 '슈뢰딩거의 고양이' 실험으로 잘 알려져 있습니다.\\n\\n양자역학은 또한 '양자 얽힘'이라는 현상을 설명합니다. 두 입자가 얽혀 있다면, 한 입자의 상태를 측정하면 즉시 다른 입자의 상태도 결정됩니다. 이는 두 입자가 물리적으로 멀리 떨어져 있어도 마찬가지입니다. 이러한 현상은 양자역학이 예측하는 바와 같이 정보가 빛보다 빠르게 전달될 수 있음을 시사합니다.\\n\\n양자역학은 이러한 이론적 기반 위에서 현대 기술의 많은 발전에 기여하였습니다. 예를 들어, 반도체, 레이저, 양자 컴퓨팅 등이 양자역학의 원리를 이용합니다. 양자역학은 여전히 활발히 연구되고 있는 분야이며, 이를 통해 우리 세계에 대한 더 깊은 이해와 함께 새로운 기술의 발전을 기대할 수 있습니다.\", response_metadata={'finish_reason': 'stop', 'logprobs': None})"
     },
     "execution_count": 19,
     "metadata": {},
     "output_type": "execute_result"
    }
   ],
   "source": [
    "prompt = PromptTemplate.from_template(\"{topic} 에 대해 쉽게 설명해주세요.\")\n",
    "\n",
    "input = {\"topic\": \"양자역학\"}\n",
    "\n",
    "prompt.invoke(input)\n",
    "print(prompt)\n",
    "(prompt | model).invoke(input)"
   ],
   "metadata": {
    "collapsed": false,
    "ExecuteTime": {
     "end_time": "2024-03-17T15:43:58.721650Z",
     "start_time": "2024-03-17T15:43:22.963515Z"
    }
   },
   "id": "e2ed7e681290d085"
  },
  {
   "cell_type": "code",
   "execution_count": 20,
   "outputs": [
    {
     "data": {
      "text/plain": "\"양자역학은 아주 작은 입자들의 세계, 즉 원자와 원자의 구성 요소들(전자, 프로톤, 뉴트론 등)이 어떻게 움직이고 상호작용하는지를 설명하는 물리학의 한 분야입니다. 우리가 일상생활에서 경험하는 매크로한 세계와는 다르게, 아주 작은 입자들의 세계에서는 직관적으로 이해하기 어려운 여러 현상들이 일어납니다. 양자역학은 이러한 현상들을 수학적인 방법으로 설명하려고 합니다.\\n\\n양자역학의 몇 가지 중요한 개념들을 쉽게 설명해 보겠습니다:\\n\\n1. **파동-입자 이중성**: 빛이나 전자 같은 입자들은 때로는 파동처럼, 때로는 입자처럼 행동할 수 있습니다. 이를 파동-입자 이중성이라고 합니다. 예를 들어, 빛은 직선으로 전파되는 입자처럼 보일 수도 있지만, 간섭이나 회절 같은 파동의 특성도 보여줍니다.\\n\\n2. **불확정성 원리**: 하이젠베르크의 불확정성 원리는 한 입자의 위치와 운동량(속도와 방향)을 동시에 정확하게 알 수 없다고 말합니다. 이는 입자의 위치를 더 정확하게 알수록 그 입자의 운동량에 대한 정보는 더 불확실해진다는 것을 의미합니다.\\n\\n3. **양자 중첩**: 양자역학에서는 입자가 여러 가지 상태의 '중첩'으로 존재할 수 있다고 합니다. 예를 들어, 전자가 동시에 여러 위치에 있을 수 있습니다. 이러한 상태는 관측되기 전까지 유지되며, 관측하는 순간에만 특정한 상태로 '붕괴'됩니다.\\n\\n4. **양자 얽힘**: 두 입자가 양자 얽힘 상태에 있을 때, 한 입자의 상태를 측정하는 것이 즉시 다른 입자의 상태에도 영향을 줍니다. 이는 두 입자가 물리적으로 멀리 떨어져 있어도 동일하게 적용됩니다. 이 현상은 양자역학의 비국소성을 보여 줍니다.\\n\\n양자역학은 현대 과학과 기술에 매우 중요한 역할을 합니다. 예를 들어, 반도체 기술, 레이저, 양자 컴퓨팅 등이 양자역학의 원리를 기반으로 합니다. 양자역학은 자연의 가장 기본적인 원리 중 하나를 우리에게 알려주며, 우리 세계에 대한 이해를 깊게 해 줍니다.\""
     },
     "execution_count": 20,
     "metadata": {},
     "output_type": "execute_result"
    }
   ],
   "source": [
    "(prompt | model | output_parser).invoke(input)\n"
   ],
   "metadata": {
    "collapsed": false,
    "ExecuteTime": {
     "end_time": "2024-03-17T15:44:56.975072Z",
     "start_time": "2024-03-17T15:44:16.702883Z"
    }
   },
   "id": "d4e6a667e34ff8"
  },
  {
   "cell_type": "code",
   "execution_count": null,
   "outputs": [],
   "source": [],
   "metadata": {
    "collapsed": false
   },
   "id": "af963564d3439277"
  }
 ],
 "metadata": {
  "kernelspec": {
   "display_name": "Python 3",
   "language": "python",
   "name": "python3"
  },
  "language_info": {
   "codemirror_mode": {
    "name": "ipython",
    "version": 2
   },
   "file_extension": ".py",
   "mimetype": "text/x-python",
   "name": "python",
   "nbconvert_exporter": "python",
   "pygments_lexer": "ipython2",
   "version": "2.7.6"
  }
 },
 "nbformat": 4,
 "nbformat_minor": 5
}
