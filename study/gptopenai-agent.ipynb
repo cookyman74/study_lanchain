{
 "cells": [
  {
   "cell_type": "code",
   "execution_count": 20,
   "id": "initial_id",
   "metadata": {
    "collapsed": true,
    "ExecuteTime": {
     "end_time": "2024-05-05T01:32:14.834751Z",
     "start_time": "2024-05-05T01:32:14.250330Z"
    }
   },
   "outputs": [],
   "source": [
    "import os\n",
    "# TAVILY API KEY를 기입합니다.\n",
    "# os.environ[\"TAVILY_API_KEY\"] = TAVILY_API_KEY\n",
    "\n",
    "os.environ[\"LANGCHAIN_PROJECT\"] = \"AGENT TUTORIAL\"\n",
    "os.environ[\"LANGCHAIN_TRACING_V2\"] = \"true\""
   ]
  },
  {
   "cell_type": "code",
   "execution_count": 21,
   "outputs": [
    {
     "data": {
      "text/plain": "True"
     },
     "execution_count": 21,
     "metadata": {},
     "output_type": "execute_result"
    }
   ],
   "source": [
    "from dotenv import load_dotenv\n",
    "\n",
    "load_dotenv()"
   ],
   "metadata": {
    "collapsed": false,
    "ExecuteTime": {
     "end_time": "2024-05-05T01:32:17.595539Z",
     "start_time": "2024-05-05T01:32:17.511618Z"
    }
   },
   "id": "d79b174b341a8021"
  },
  {
   "cell_type": "code",
   "execution_count": 3,
   "outputs": [],
   "source": [
    "# TavilySearchReasults 클래스를 langchain_community.tools.tavily_search 모듈에서 가져옵니다.\n",
    "from langchain_community.tools.tavily_search import TavilySearchResults\n",
    "\n",
    "# TavilySearchResults 클래스의 인스턴스를 생성합니다.\n",
    "# K=5 검색결과를 5개까지 가져오겠다는 의미.\n",
    "\n",
    "search = TavilySearchResults(k=5)"
   ],
   "metadata": {
    "collapsed": false,
    "ExecuteTime": {
     "end_time": "2024-05-05T00:59:28.081894Z",
     "start_time": "2024-05-05T00:59:27.674201Z"
    }
   },
   "id": "1366d28288254931"
  },
  {
   "cell_type": "code",
   "execution_count": null,
   "outputs": [],
   "source": [
    "#검색결과를 가져옵니다.\n",
    "search.invoke(\"이노그리드\")"
   ],
   "metadata": {
    "collapsed": false
   },
   "id": "c4486aea00f25372"
  },
  {
   "cell_type": "code",
   "execution_count": 4,
   "outputs": [],
   "source": [
    "from langchain_text_splitters import RecursiveCharacterTextSplitter\n",
    "from langchain_community.vectorstores import FAISS\n",
    "from langchain_openai import OpenAIEmbeddings\n",
    "from langchain.document_loaders import PyPDFLoader\n",
    "\n",
    "# PDF 파일 로드\n",
    "loader = PyPDFLoader(\"data/test.pdf\")\n",
    "# 텍스트 분활기를 사용하여 문서를 분활 합니다.\n",
    "text_splitter = RecursiveCharacterTextSplitter(chunk_size=1000, chunk_overlap=100)\n",
    "# 문서를 로드하고 분활합니다.\n",
    "split_docs = loader.load_and_split(text_splitter)\n",
    "# vectorstore를 생성합니다.\n",
    "vector = FAISS.from_documents(split_docs, OpenAIEmbeddings())\n",
    "# Rettriever를 생성합니다.\n",
    "retriever = vector.as_retriever()"
   ],
   "metadata": {
    "collapsed": false,
    "ExecuteTime": {
     "end_time": "2024-05-05T00:59:49.792787Z",
     "start_time": "2024-05-05T00:59:30.304728Z"
    }
   },
   "id": "ce79d4f18b7cc186"
  },
  {
   "cell_type": "code",
   "execution_count": 14,
   "outputs": [],
   "source": [
    "retriever.get_relevant_documents(\"19-34세 청년의 미혼 사유\")"
   ],
   "metadata": {
    "collapsed": false,
    "ExecuteTime": {
     "end_time": "2024-05-05T00:52:38.371835Z",
     "start_time": "2024-05-05T00:52:18.684120Z"
    }
   },
   "id": "9f2229bf2ce50ed"
  },
  {
   "cell_type": "code",
   "execution_count": 8,
   "outputs": [],
   "source": [
    "# langchain 패키지의 tools 모듈에서 retriever 도구를 생성하는 함수를 가져온다.\n",
    "from langchain.tools.retriever import create_retriever_tool \n",
    "\n",
    "retriever_tool = create_retriever_tool(\n",
    "    retriever,\n",
    "    name=\"pdf_search\", \n",
    "    description=\"2022년 청년과 관련된 정보를 PDF 문서에서 검색합니다. '2022년 청년의 삶과 동향'에 관련된 질문은 이 도구를 사용해야 합니다. \"\n",
    ")"
   ],
   "metadata": {
    "collapsed": false,
    "ExecuteTime": {
     "end_time": "2024-05-05T01:03:16.978080Z",
     "start_time": "2024-05-05T01:03:16.947686Z"
    }
   },
   "id": "42c7e9c8e1185db1"
  },
  {
   "cell_type": "markdown",
   "source": [],
   "metadata": {
    "collapsed": false
   },
   "id": "556b69fc02002855"
  },
  {
   "cell_type": "code",
   "execution_count": 9,
   "outputs": [],
   "source": [
    "# tools 리스트에 search와 retriever_tool을 추가\n",
    "tools = [search, retriever_tool]"
   ],
   "metadata": {
    "collapsed": false,
    "ExecuteTime": {
     "end_time": "2024-05-05T01:03:20.416066Z",
     "start_time": "2024-05-05T01:03:20.410558Z"
    }
   },
   "id": "e184a1e721c6c392"
  },
  {
   "cell_type": "code",
   "execution_count": 10,
   "outputs": [],
   "source": [
    "from langchain_openai import ChatOpenAI\n",
    "\n",
    "gpt = ChatOpenAI(model=\"gpt-4-turbo-preview\", temperature=0)"
   ],
   "metadata": {
    "collapsed": false,
    "ExecuteTime": {
     "end_time": "2024-05-05T01:04:19.511262Z",
     "start_time": "2024-05-05T01:04:19.426510Z"
    }
   },
   "id": "22743341a80af9f"
  },
  {
   "cell_type": "markdown",
   "source": [
    "다음으로, 에이전트를 안내하기 위해 사용하고 싶은 프롬프트를 선택\n",
    "이 프롬프트의 내용을 보고 싶고 LangSmith에 접근할 수 있다면, 다음으로 이동\n",
    "다운로드 받아 활용할 프롬프트: https://smith.lanchain.com/hub/hwchase17/openai-functions-agent\n",
    "\n",
    "hub.pull()함수를 사용하여 리소스를 가져온 후,\n",
    "prompt.messages를 통해 해당 리소스의 메시지에 접근."
   ],
   "metadata": {
    "collapsed": false
   },
   "id": "1ae11924920055db"
  },
  {
   "cell_type": "code",
   "execution_count": 16,
   "outputs": [
    {
     "data": {
      "text/plain": "[SystemMessagePromptTemplate(prompt=PromptTemplate(input_variables=[], template='You are a helpful assistant')),\n MessagesPlaceholder(variable_name='chat_history', optional=True),\n HumanMessagePromptTemplate(prompt=PromptTemplate(input_variables=['input'], template='{input}')),\n MessagesPlaceholder(variable_name='agent_scratchpad')]"
     },
     "execution_count": 16,
     "metadata": {},
     "output_type": "execute_result"
    }
   ],
   "source": [
    "from langchain import hub \n",
    "# hub에서 prompt를 가져온다.\n",
    "prompt = hub.pull(\"hwchase17/openai-functions-agent\")\n",
    "# prompt의 메시지를 출력합니다.\n",
    "prompt.messages"
   ],
   "metadata": {
    "collapsed": false,
    "ExecuteTime": {
     "end_time": "2024-05-05T01:09:43.964297Z",
     "start_time": "2024-05-05T01:09:40.643315Z"
    }
   },
   "id": "d107638483c235e9"
  },
  {
   "cell_type": "markdown",
   "source": [
    "이제 LLM, 프롬프트 및 도구로 에이전트를 초기화할 수 있습니다. 에이전트는 입력을 받아 어떤 action을 취할지 결정하는 역할을 합니다.\n",
    "중요한 것은 에이전트가 action들을 실행하지 않는 다는 것입니다. (agentexcutor에 의해 실행)"
   ],
   "metadata": {
    "collapsed": false
   },
   "id": "68eed5df2407bd0a"
  },
  {
   "cell_type": "code",
   "execution_count": 17,
   "outputs": [],
   "source": [
    "from langchain.agents import create_openai_functions_agent\n",
    "# OpenAI 함수 기반 에이전트를 생성.\n",
    "# llm, tools, prompt를 인자로 사용.\n",
    "agent = create_openai_functions_agent(gpt, tools, prompt)"
   ],
   "metadata": {
    "collapsed": false,
    "ExecuteTime": {
     "end_time": "2024-05-05T01:12:26.283551Z",
     "start_time": "2024-05-05T01:12:24.768277Z"
    }
   },
   "id": "7d91689000d86949"
  },
  {
   "cell_type": "code",
   "execution_count": 18,
   "outputs": [],
   "source": [
    "from langchain.agents import AgentExecutor\n",
    "# AgentExecutor 클래스를 사용하여 agnet와 tools를 설정하고,\n",
    "# 상세한 로그를 출력하도록 verbose를 true로 설정.\n",
    "agent_executor = AgentExecutor(agent=agent, tools=tools, vector=True)"
   ],
   "metadata": {
    "collapsed": false,
    "ExecuteTime": {
     "end_time": "2024-05-05T01:14:16.520017Z",
     "start_time": "2024-05-05T01:14:16.515488Z"
    }
   },
   "id": "eeaffe6ca7b123d8"
  },
  {
   "cell_type": "code",
   "execution_count": 27,
   "outputs": [
    {
     "data": {
      "text/plain": "'2024년 19-20세 청년 동향에 대한 정보는 다음과 같습니다:\\n\\n- **청년 주택드림 청약통장 및 대출 출시**: 2024년 2월부터 소득 연 5천만 원 이하의 만 19~34세 무주택자를 대상으로 청약통장과 대출을 연계해 지원합니다. 이는 청년들이 보다 쉽게 자신의 집을 마련할 수 있도록 돕기 위한 조치입니다. [출처](https://korea.kr/multi/visualNewsView.do?newsId=148924647)\\n\\n- **고용 동향**: 2024년 2월 기준, OECD 비교기준으로 15~64세 고용률은 68.7%로 전년 동월 대비 0.7%p 상승했으며, 청년층 고용률은 46.0%로 전년 동월 대비 0.5%p 상승했습니다. 실업률은 3.2%로 전년 동월 대비 0.1%p 감소했습니다. [출처](https://korea.kr/news/policyNewsView.do?newsId=156619701)\\n\\n- **1월 고용 동향**: 15~64세 고용률은 68.7%로 전년 동월 대비 0.9%p 상승했고, 실업률은 3.7%로 전년 동월 대비 0.1%p 상승했습니다. 실업자 수는 1,072천 명으로 전년 동월 대비 48천 명(4.7%) 증가했으며, 청년층 실업률은 6.0%로 전년 동월 대비 0.1%p 상승했습니다. [출처](https://kostat.go.kr/board.es?mid=a10301010000&bid=210&act=view&list_no=429474)\\n\\n- **청년지원정책**: 2024년부터 국군장병들의 실질적인 처우 개선을 위해 병장 기준 봉급이 월 125만원으로 조정됩니다. 이는 만 19세에서 만 34세에 해당하는 청년들에게도 영향을 미칠 중요한 정책 변화 중 하나입니다. [출처](https://m.blog.naver.com/live_in_good_order/223358557737)\\n\\n이 정보들은 2024년 19-20세 청년들의 주거, 고용, 그리고 국군장병 처우 개선 등 다양한 분야에서의 동향과 정책 변화를 보여줍니다.'"
     },
     "execution_count": 27,
     "metadata": {},
     "output_type": "execute_result"
    }
   ],
   "source": [
    "response = agent_executor.invoke(\n",
    "    {\"input\": \"2024년 19-20세 청년 동향에 대해 알려주세요.\"}\n",
    ")\n",
    "response[\"output\"]"
   ],
   "metadata": {
    "collapsed": false,
    "ExecuteTime": {
     "end_time": "2024-05-05T01:36:48.819061Z",
     "start_time": "2024-05-05T01:36:25.552857Z"
    }
   },
   "id": "44151fd01fdf11fd"
  },
  {
   "cell_type": "code",
   "execution_count": null,
   "outputs": [],
   "source": [],
   "metadata": {
    "collapsed": false
   },
   "id": "771a5ecfb8e4a3c5"
  },
  {
   "cell_type": "code",
   "execution_count": 28,
   "outputs": [
    {
     "name": "stdout",
     "output_type": "stream",
     "text": [
      "답변: 19-20세 청년 동향에 대한 정보는 다음과 같습니다:\n",
      "\n",
      "- **교육 및 취업 상황**: 코로나19로 인해 청년세대의 교육기회가 제한되고 있으며, 취업난으로 인해 졸업을 유예하는 사례가 증가하고 있습니다. 2020년 대학 미진학 사유로는 '돈을 벌고 싶어서'와 '가정형편이 어려워서'가 40%를 상회하며, 고등교육기관의 학사학위 취득 유예생도 전년 대비 14.1% 증가했습니다.\n",
      "\n",
      "- **정신건강**: 청년층의 정신건강이 악화되고 있으며, 스트레스 인지율, 정신장애 유병률, 우울장애 일년유병률 등에서 일관되게 확인됩니다. 특히, 20대 초반 여성 청년의 자살률이 가파르게 증가하는 추세이며, 주요 자살충동 사유로는 경제적 어려움, 직장문제, 외로움과 고독, 가정불화 등이 있습니다.\n",
      "\n",
      "- **여가생활**: 2020년 기준, 20대 청년은 여가생활로 취미와 오락활동에 가장 많은 시간을 할애하고 있으며, 평일 하루 평균 여가시간은 3.7시간입니다. 문화예술행사 관람률은 코로나19의 여파로 인해 전년 대비 큰 폭으로 감소했습니다.\n",
      "\n",
      "- **문화예술행사 참여 경험**: 2020년 문화예술행사 참여 경험은 20대에서 5.7%, 30대에서 4.4%로, 대부분의 청년이 참여하지 않았습니다. 이는 코로나19로 인한 영향으로 추측됩니다.\n",
      "\n",
      "이 정보는 청년세대의 교육, 취업, 정신건강, 여가생활 등 다양한 측면에서의 동향을 보여줍니다.\n"
     ]
    }
   ],
   "source": [
    "response = agent_executor.invoke(\n",
    "    {\"input\": \"19-20세 청년 동향에 대해 PDF에서 알려주세요.\"}\n",
    ")\n",
    "print(f'답변: {response[\"output\"]}')"
   ],
   "metadata": {
    "collapsed": false,
    "ExecuteTime": {
     "end_time": "2024-05-05T01:38:30.743177Z",
     "start_time": "2024-05-05T01:38:13.542589Z"
    }
   },
   "id": "5e9f9a55e90789a2"
  },
  {
   "cell_type": "code",
   "execution_count": null,
   "outputs": [],
   "source": [],
   "metadata": {
    "collapsed": false
   },
   "id": "f3446b288cfcaf11"
  }
 ],
 "metadata": {
  "kernelspec": {
   "display_name": "Python 3",
   "language": "python",
   "name": "python3"
  },
  "language_info": {
   "codemirror_mode": {
    "name": "ipython",
    "version": 2
   },
   "file_extension": ".py",
   "mimetype": "text/x-python",
   "name": "python",
   "nbconvert_exporter": "python",
   "pygments_lexer": "ipython2",
   "version": "2.7.6"
  }
 },
 "nbformat": 4,
 "nbformat_minor": 5
}
