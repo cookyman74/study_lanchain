{
 "cells": [
  {
   "cell_type": "code",
   "execution_count": 35,
   "id": "initial_id",
   "metadata": {
    "collapsed": true,
    "ExecuteTime": {
     "end_time": "2024-05-05T05:04:21.416229Z",
     "start_time": "2024-05-05T05:04:21.196908Z"
    }
   },
   "outputs": [],
   "source": [
    "import os\n",
    "# TAVILY API KEY를 기입합니다.\n",
    "# os.environ[\"TAVILY_API_KEY\"] = TAVILY_API_KEY\n",
    "\n",
    "os.environ[\"LANGCHAIN_PROJECT\"] = \"AGENT TUTORIAL\"\n",
    "os.environ[\"LANGCHAIN_TRACING_V2\"] = \"true\""
   ]
  },
  {
   "cell_type": "code",
   "execution_count": 36,
   "outputs": [
    {
     "data": {
      "text/plain": "True"
     },
     "execution_count": 36,
     "metadata": {},
     "output_type": "execute_result"
    }
   ],
   "source": [
    "from dotenv import load_dotenv\n",
    "\n",
    "load_dotenv()"
   ],
   "metadata": {
    "collapsed": false,
    "ExecuteTime": {
     "end_time": "2024-05-05T05:04:21.886752Z",
     "start_time": "2024-05-05T05:04:21.850528Z"
    }
   },
   "id": "d79b174b341a8021"
  },
  {
   "cell_type": "code",
   "execution_count": 37,
   "outputs": [],
   "source": [
    "# TavilySearchReasults 클래스를 langchain_community.tools.tavily_search 모듈에서 가져옵니다.\n",
    "from langchain_community.tools.tavily_search import TavilySearchResults\n",
    "\n",
    "# TavilySearchResults 클래스의 인스턴스를 생성합니다.\n",
    "# K=5 검색결과를 5개까지 가져오겠다는 의미.\n",
    "\n",
    "search = TavilySearchResults(k=3)"
   ],
   "metadata": {
    "collapsed": false,
    "ExecuteTime": {
     "end_time": "2024-05-05T05:04:23.663345Z",
     "start_time": "2024-05-05T05:04:23.660337Z"
    }
   },
   "id": "1366d28288254931"
  },
  {
   "cell_type": "markdown",
   "source": [],
   "metadata": {
    "collapsed": false
   },
   "id": "556b69fc02002855"
  },
  {
   "cell_type": "code",
   "execution_count": 10,
   "outputs": [],
   "source": [
    "# tools 리스트에 search와 retriever_tool을 추가\n",
    "tools = [search]"
   ],
   "metadata": {
    "collapsed": false,
    "ExecuteTime": {
     "end_time": "2024-05-05T04:52:04.369512Z",
     "start_time": "2024-05-05T04:52:04.364990Z"
    }
   },
   "id": "e184a1e721c6c392"
  },
  {
   "cell_type": "code",
   "execution_count": 2,
   "outputs": [],
   "source": [
    "from langchain_openai import ChatOpenAI \n",
    "from langchain.agents.format_scratchpad import format_log_to_messages\n",
    "from langchain.agents.output_parsers import (ReActJsonSingleInputOutputParser,)\n",
    "from langchain_openai import ChatOpenAI\n",
    "\n",
    "from langchain.prompts import ChatPromptTemplate, MessagesPlaceholder\n",
    "from langchain.pydantic_v1 import BaseModel, Field\n",
    "\n",
    "from langchain.tools.render import render_text_description_and_args\n",
    "from langchain_core.messages import AIMessage, HumanMessage\n",
    "\n",
    "from langchain.tools import tool\n",
    "\n",
    "local_llama3 = ChatOpenAI(\n",
    "    base_url=\"http://localhost:1234/v1\",\n",
    "    api_key=\"lm-studio\",\n",
    "    model=\"congnitivecomputations/dolphin-2.9-llama3-8b-gguf\",\n",
    "    temperature=0,\n",
    ")"
   ],
   "metadata": {
    "collapsed": false,
    "ExecuteTime": {
     "end_time": "2024-05-05T05:28:32.831099Z",
     "start_time": "2024-05-05T05:28:31.941975Z"
    }
   },
   "id": "22743341a80af9f"
  },
  {
   "cell_type": "code",
   "execution_count": null,
   "outputs": [],
   "source": [
    "@tool\n",
    "def search_phonenumber(query: str) -> str:\n",
    "    \"\"\"장소에 대한 전화번호 검색 결과를 반환할 때 사용되는 도구\"\"\"\n",
    "    return \"판교 몽중헌 전화번호: 010-1234-5678\\n\\n서울 OOO 전화번호: 02-123-4567\"\n",
    "\n",
    "tools = [search_phonenumber]\n",
    "llm_with_tools = local_llama3.bind_tools(tools)"
   ],
   "metadata": {
    "collapsed": false
   },
   "id": "ae13cf2a39d9e75b"
  },
  {
   "cell_type": "markdown",
   "source": [
    "다음으로, 에이전트를 안내하기 위해 사용하고 싶은 프롬프트를 선택\n",
    "이 프롬프트의 내용을 보고 싶고 LangSmith에 접근할 수 있다면, 다음으로 이동\n",
    "다운로드 받아 활용할 프롬프트: https://smith.lanchain.com/hub/hwchase17/openai-functions-agent\n",
    "\n",
    "hub.pull()함수를 사용하여 리소스를 가져온 후,\n",
    "prompt.messages를 통해 해당 리소스의 메시지에 접근."
   ],
   "metadata": {
    "collapsed": false
   },
   "id": "1ae11924920055db"
  },
  {
   "cell_type": "code",
   "execution_count": 68,
   "outputs": [],
   "source": [
    "from langchain import hub "
   ],
   "metadata": {
    "collapsed": false,
    "ExecuteTime": {
     "end_time": "2024-05-05T05:15:03.511564Z",
     "start_time": "2024-05-05T05:15:03.501765Z"
    }
   },
   "id": "d107638483c235e9"
  },
  {
   "cell_type": "code",
   "execution_count": 74,
   "outputs": [],
   "source": [
    "# hub에서 prompt를 가져온다.\n",
    "json_prompt = hub.pull(\"teddynote/react-chat-json-korean\")"
   ],
   "metadata": {
    "collapsed": false,
    "ExecuteTime": {
     "end_time": "2024-05-05T05:19:32.548714Z",
     "start_time": "2024-05-05T05:19:31.749392Z"
    }
   },
   "id": "ca6c6e9e46ed30c4"
  },
  {
   "cell_type": "code",
   "execution_count": null,
   "outputs": [],
   "source": [
    "json_prompt"
   ],
   "metadata": {
    "collapsed": false
   },
   "id": "a21215152795f30d"
  },
  {
   "cell_type": "markdown",
   "source": [
    "이제 LLM, 프롬프트 및 도구로 에이전트를 초기화할 수 있습니다. 에이전트는 입력을 받아 어떤 action을 취할지 결정하는 역할을 합니다.\n",
    "중요한 것은 에이전트가 action들을 실행하지 않는 다는 것입니다. (agentexcutor에 의해 실행)"
   ],
   "metadata": {
    "collapsed": false
   },
   "id": "68eed5df2407bd0a"
  },
  {
   "cell_type": "code",
   "execution_count": null,
   "outputs": [],
   "source": [],
   "metadata": {
    "collapsed": false
   },
   "id": "4452ae2da8643007"
  },
  {
   "cell_type": "code",
   "execution_count": 75,
   "outputs": [],
   "source": [
    "from langchain.agents import create_json_chat_agent\n",
    "# OpenAI 함수 기반 에이전트를 생성.\n",
    "# llm, tools, prompt를 인자로 사용.\n",
    "agent = create_json_chat_agent(llama3, tools, json_prompt)"
   ],
   "metadata": {
    "collapsed": false,
    "ExecuteTime": {
     "end_time": "2024-05-05T05:19:33.830948Z",
     "start_time": "2024-05-05T05:19:33.809968Z"
    }
   },
   "id": "7d91689000d86949"
  },
  {
   "cell_type": "code",
   "execution_count": 76,
   "outputs": [],
   "source": [
    "from langchain.agents import AgentExecutor\n",
    "# AgentExecutor 클래스를 사용하여 agnet와 tools를 설정하고,\n",
    "# 상세한 로그를 출력하도록 verbose를 true로 설정.\n",
    "agent_executor = AgentExecutor(agent=agent, tools=tools, vector=True)"
   ],
   "metadata": {
    "collapsed": false,
    "ExecuteTime": {
     "end_time": "2024-05-05T05:19:34.676870Z",
     "start_time": "2024-05-05T05:19:34.659517Z"
    }
   },
   "id": "eeaffe6ca7b123d8"
  },
  {
   "cell_type": "code",
   "execution_count": 77,
   "outputs": [
    {
     "data": {
      "text/plain": "'2024년 19-20세 청년 동향은 고용률이 68.7%로 전년동월대비 0.9%p 상승, 실업률은 3.7%로 전년동월대비 0.1%p 상승, 실업자는 1,072천명으로 전년동월대비 48천명 (4.7%) 증가하는 등 다양한 추이들을 보였다. 또한, 2024년 청년지원정책 중에는 재학단계부터 맞춤형 지원 및 일경험 확대, 신규청년 국가기술자격 응시료 지원 등이 있다.'"
     },
     "execution_count": 77,
     "metadata": {},
     "output_type": "execute_result"
    }
   ],
   "source": [
    "response = agent_executor.invoke(\n",
    "    {\"input\": \"2024년 19-20세 청년 동향에 대해 알려주세요.\"}\n",
    ")\n",
    "response[\"output\"]"
   ],
   "metadata": {
    "collapsed": false,
    "ExecuteTime": {
     "end_time": "2024-05-05T05:20:03.255563Z",
     "start_time": "2024-05-05T05:19:36.212097Z"
    }
   },
   "id": "44151fd01fdf11fd"
  },
  {
   "cell_type": "code",
   "execution_count": 73,
   "outputs": [
    {
     "name": "stdout",
     "output_type": "stream",
     "text": [
      "답변: According to the provided PDF, the youth policy white paper 2021 reports that 19-20 year old youths are facing difficulties in education and employment due to the COVID-19 pandemic. The paper highlights that the youth unemployment rate has increased, and many youths are delaying their education due to financial difficulties. Additionally, the paper notes that the youth suicide rate has also increased, with economic difficulties, job problems, and feelings of loneliness and isolation being major contributing factors.\n"
     ]
    }
   ],
   "source": [
    "response = agent_executor.invoke(\n",
    "    {\"input\": \"19-20세 청년 동향에 대해 PDF에서 알려주세요.\"}\n",
    ")\n",
    "print(f'답변: {response[\"output\"]}')"
   ],
   "metadata": {
    "collapsed": false,
    "ExecuteTime": {
     "end_time": "2024-05-05T05:16:49.297992Z",
     "start_time": "2024-05-05T05:16:30.538374Z"
    }
   },
   "id": "5e9f9a55e90789a2"
  },
  {
   "cell_type": "code",
   "execution_count": null,
   "outputs": [],
   "source": [],
   "metadata": {
    "collapsed": false
   },
   "id": "f3446b288cfcaf11"
  }
 ],
 "metadata": {
  "kernelspec": {
   "display_name": "Python 3",
   "language": "python",
   "name": "python3"
  },
  "language_info": {
   "codemirror_mode": {
    "name": "ipython",
    "version": 2
   },
   "file_extension": ".py",
   "mimetype": "text/x-python",
   "name": "python",
   "nbconvert_exporter": "python",
   "pygments_lexer": "ipython2",
   "version": "2.7.6"
  }
 },
 "nbformat": 4,
 "nbformat_minor": 5
}
